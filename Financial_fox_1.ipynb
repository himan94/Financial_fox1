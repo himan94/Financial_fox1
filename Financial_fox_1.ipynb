{
 "cells": [
  {
   "cell_type": "markdown",
   "metadata": {},
   "source": [
    "Importing pandas, regular expression and reading the file"
   ]
  },
  {
   "cell_type": "code",
   "execution_count": 65,
   "metadata": {},
   "outputs": [],
   "source": [
    "import pandas as pd\n",
    "import regex as re\n",
    "from pandas.api.types import is_string_dtype\n",
    "file1 = pd.read_csv(\"One_Year_of_FitBitChargeHR_Data.csv\",converters={'Steps':str,'Calories_Activity':str})  #keeping these two columns as strings while reading"
   ]
  },
  {
   "cell_type": "code",
   "execution_count": 66,
   "metadata": {},
   "outputs": [
    {
     "data": {
      "text/html": [
       "<div>\n",
       "<style scoped>\n",
       "    .dataframe tbody tr th:only-of-type {\n",
       "        vertical-align: middle;\n",
       "    }\n",
       "\n",
       "    .dataframe tbody tr th {\n",
       "        vertical-align: top;\n",
       "    }\n",
       "\n",
       "    .dataframe thead th {\n",
       "        text-align: right;\n",
       "    }\n",
       "</style>\n",
       "<table border=\"1\" class=\"dataframe\">\n",
       "  <thead>\n",
       "    <tr style=\"text-align: right;\">\n",
       "      <th></th>\n",
       "      <th>Date</th>\n",
       "      <th>Calories</th>\n",
       "      <th>Steps</th>\n",
       "      <th>Distance</th>\n",
       "      <th>floors</th>\n",
       "      <th>Minutes_sitting</th>\n",
       "      <th>Minutes_of_slow_activity</th>\n",
       "      <th>Minutes_of_moderate_activity</th>\n",
       "      <th>Minutes_of_intense_activity</th>\n",
       "      <th>Calories_Activity</th>\n",
       "    </tr>\n",
       "  </thead>\n",
       "  <tbody>\n",
       "    <tr>\n",
       "      <th>0</th>\n",
       "      <td>08-05-2015</td>\n",
       "      <td>1.934</td>\n",
       "      <td>905</td>\n",
       "      <td>0,65</td>\n",
       "      <td>0</td>\n",
       "      <td>1.355</td>\n",
       "      <td>46</td>\n",
       "      <td>0</td>\n",
       "      <td>0</td>\n",
       "      <td>168</td>\n",
       "    </tr>\n",
       "    <tr>\n",
       "      <th>1</th>\n",
       "      <td>09-05-2015</td>\n",
       "      <td>3.631</td>\n",
       "      <td>18.925</td>\n",
       "      <td>14,11</td>\n",
       "      <td>4</td>\n",
       "      <td>611.000</td>\n",
       "      <td>316</td>\n",
       "      <td>61</td>\n",
       "      <td>60</td>\n",
       "      <td>2.248</td>\n",
       "    </tr>\n",
       "    <tr>\n",
       "      <th>2</th>\n",
       "      <td>10-05-2015</td>\n",
       "      <td>3.204</td>\n",
       "      <td>14.228</td>\n",
       "      <td>10,57</td>\n",
       "      <td>1</td>\n",
       "      <td>602.000</td>\n",
       "      <td>226</td>\n",
       "      <td>14</td>\n",
       "      <td>77</td>\n",
       "      <td>1.719</td>\n",
       "    </tr>\n",
       "    <tr>\n",
       "      <th>3</th>\n",
       "      <td>11-05-2015</td>\n",
       "      <td>2.673</td>\n",
       "      <td>6.756</td>\n",
       "      <td>5,02</td>\n",
       "      <td>8</td>\n",
       "      <td>749.000</td>\n",
       "      <td>190</td>\n",
       "      <td>23</td>\n",
       "      <td>4</td>\n",
       "      <td>962</td>\n",
       "    </tr>\n",
       "    <tr>\n",
       "      <th>4</th>\n",
       "      <td>12-05-2015</td>\n",
       "      <td>2.495</td>\n",
       "      <td>5.020</td>\n",
       "      <td>3,73</td>\n",
       "      <td>1</td>\n",
       "      <td>876.000</td>\n",
       "      <td>171</td>\n",
       "      <td>0</td>\n",
       "      <td>0</td>\n",
       "      <td>736</td>\n",
       "    </tr>\n",
       "  </tbody>\n",
       "</table>\n",
       "</div>"
      ],
      "text/plain": [
       "         Date  Calories   Steps Distance  floors  Minutes_sitting  \\\n",
       "0  08-05-2015     1.934     905     0,65       0            1.355   \n",
       "1  09-05-2015     3.631  18.925    14,11       4          611.000   \n",
       "2  10-05-2015     3.204  14.228    10,57       1          602.000   \n",
       "3  11-05-2015     2.673   6.756     5,02       8          749.000   \n",
       "4  12-05-2015     2.495   5.020     3,73       1          876.000   \n",
       "\n",
       "   Minutes_of_slow_activity  Minutes_of_moderate_activity  \\\n",
       "0                        46                             0   \n",
       "1                       316                            61   \n",
       "2                       226                            14   \n",
       "3                       190                            23   \n",
       "4                       171                             0   \n",
       "\n",
       "   Minutes_of_intense_activity Calories_Activity  \n",
       "0                            0               168  \n",
       "1                           60             2.248  \n",
       "2                           77             1.719  \n",
       "3                            4               962  \n",
       "4                            0               736  "
      ]
     },
     "execution_count": 66,
     "metadata": {},
     "output_type": "execute_result"
    }
   ],
   "source": [
    "file1.head()"
   ]
  },
  {
   "cell_type": "markdown",
   "metadata": {},
   "source": [
    "## Distance column\n",
    "\n",
    "In the distance column change , to .\n",
    "\n",
    "For example, change 0,65 to 0.65"
   ]
  },
  {
   "cell_type": "code",
   "execution_count": 67,
   "metadata": {},
   "outputs": [
    {
     "data": {
      "text/plain": [
       "True"
      ]
     },
     "execution_count": 67,
     "metadata": {},
     "output_type": "execute_result"
    }
   ],
   "source": [
    "is_string_dtype(file1['Distance'])     # check the type"
   ]
  },
  {
   "cell_type": "code",
   "execution_count": 68,
   "metadata": {},
   "outputs": [],
   "source": [
    "for row in range(0,len(file1)):\n",
    "    file1.iloc[row,3] = re.sub(',','.',file1.iloc[row,3])     #replace/substitute , with ."
   ]
  },
  {
   "cell_type": "code",
   "execution_count": 69,
   "metadata": {},
   "outputs": [],
   "source": [
    "file1.Distance = file1.Distance.astype(float)                # change type to float"
   ]
  },
  {
   "cell_type": "code",
   "execution_count": 70,
   "metadata": {},
   "outputs": [
    {
     "data": {
      "text/plain": [
       "False"
      ]
     },
     "execution_count": 70,
     "metadata": {},
     "output_type": "execute_result"
    }
   ],
   "source": [
    "is_string_dtype(file1['Distance'])"
   ]
  },
  {
   "cell_type": "markdown",
   "metadata": {},
   "source": [
    "## Now change the steps column"
   ]
  },
  {
   "cell_type": "code",
   "execution_count": 71,
   "metadata": {},
   "outputs": [
    {
     "data": {
      "text/html": [
       "<div>\n",
       "<style scoped>\n",
       "    .dataframe tbody tr th:only-of-type {\n",
       "        vertical-align: middle;\n",
       "    }\n",
       "\n",
       "    .dataframe tbody tr th {\n",
       "        vertical-align: top;\n",
       "    }\n",
       "\n",
       "    .dataframe thead th {\n",
       "        text-align: right;\n",
       "    }\n",
       "</style>\n",
       "<table border=\"1\" class=\"dataframe\">\n",
       "  <thead>\n",
       "    <tr style=\"text-align: right;\">\n",
       "      <th></th>\n",
       "      <th>Date</th>\n",
       "      <th>Calories</th>\n",
       "      <th>Steps</th>\n",
       "      <th>Distance</th>\n",
       "      <th>floors</th>\n",
       "      <th>Minutes_sitting</th>\n",
       "      <th>Minutes_of_slow_activity</th>\n",
       "      <th>Minutes_of_moderate_activity</th>\n",
       "      <th>Minutes_of_intense_activity</th>\n",
       "      <th>Calories_Activity</th>\n",
       "    </tr>\n",
       "  </thead>\n",
       "  <tbody>\n",
       "    <tr>\n",
       "      <th>0</th>\n",
       "      <td>08-05-2015</td>\n",
       "      <td>1.934</td>\n",
       "      <td>905</td>\n",
       "      <td>0.65</td>\n",
       "      <td>0</td>\n",
       "      <td>1.355</td>\n",
       "      <td>46</td>\n",
       "      <td>0</td>\n",
       "      <td>0</td>\n",
       "      <td>168</td>\n",
       "    </tr>\n",
       "    <tr>\n",
       "      <th>1</th>\n",
       "      <td>09-05-2015</td>\n",
       "      <td>3.631</td>\n",
       "      <td>18.925</td>\n",
       "      <td>14.11</td>\n",
       "      <td>4</td>\n",
       "      <td>611.000</td>\n",
       "      <td>316</td>\n",
       "      <td>61</td>\n",
       "      <td>60</td>\n",
       "      <td>2.248</td>\n",
       "    </tr>\n",
       "    <tr>\n",
       "      <th>2</th>\n",
       "      <td>10-05-2015</td>\n",
       "      <td>3.204</td>\n",
       "      <td>14.228</td>\n",
       "      <td>10.57</td>\n",
       "      <td>1</td>\n",
       "      <td>602.000</td>\n",
       "      <td>226</td>\n",
       "      <td>14</td>\n",
       "      <td>77</td>\n",
       "      <td>1.719</td>\n",
       "    </tr>\n",
       "    <tr>\n",
       "      <th>3</th>\n",
       "      <td>11-05-2015</td>\n",
       "      <td>2.673</td>\n",
       "      <td>6.756</td>\n",
       "      <td>5.02</td>\n",
       "      <td>8</td>\n",
       "      <td>749.000</td>\n",
       "      <td>190</td>\n",
       "      <td>23</td>\n",
       "      <td>4</td>\n",
       "      <td>962</td>\n",
       "    </tr>\n",
       "    <tr>\n",
       "      <th>4</th>\n",
       "      <td>12-05-2015</td>\n",
       "      <td>2.495</td>\n",
       "      <td>5.020</td>\n",
       "      <td>3.73</td>\n",
       "      <td>1</td>\n",
       "      <td>876.000</td>\n",
       "      <td>171</td>\n",
       "      <td>0</td>\n",
       "      <td>0</td>\n",
       "      <td>736</td>\n",
       "    </tr>\n",
       "  </tbody>\n",
       "</table>\n",
       "</div>"
      ],
      "text/plain": [
       "         Date  Calories   Steps  Distance  floors  Minutes_sitting  \\\n",
       "0  08-05-2015     1.934     905      0.65       0            1.355   \n",
       "1  09-05-2015     3.631  18.925     14.11       4          611.000   \n",
       "2  10-05-2015     3.204  14.228     10.57       1          602.000   \n",
       "3  11-05-2015     2.673   6.756      5.02       8          749.000   \n",
       "4  12-05-2015     2.495   5.020      3.73       1          876.000   \n",
       "\n",
       "   Minutes_of_slow_activity  Minutes_of_moderate_activity  \\\n",
       "0                        46                             0   \n",
       "1                       316                            61   \n",
       "2                       226                            14   \n",
       "3                       190                            23   \n",
       "4                       171                             0   \n",
       "\n",
       "   Minutes_of_intense_activity Calories_Activity  \n",
       "0                            0               168  \n",
       "1                           60             2.248  \n",
       "2                           77             1.719  \n",
       "3                            4               962  \n",
       "4                            0               736  "
      ]
     },
     "execution_count": 71,
     "metadata": {},
     "output_type": "execute_result"
    }
   ],
   "source": [
    "file1.head()"
   ]
  },
  {
   "cell_type": "code",
   "execution_count": 72,
   "metadata": {},
   "outputs": [
    {
     "data": {
      "text/plain": [
       "'18.925'"
      ]
     },
     "execution_count": 72,
     "metadata": {},
     "output_type": "execute_result"
    }
   ],
   "source": [
    "file1.iloc[1,2]"
   ]
  },
  {
   "cell_type": "code",
   "execution_count": null,
   "metadata": {},
   "outputs": [],
   "source": [
    "For making 18.925 into 18925, we need to multiply it with 1000\n",
    "logic 10 ** (length of string - index of decimal - 1)   # to figure out the power"
   ]
  },
  {
   "cell_type": "code",
   "execution_count": 58,
   "metadata": {},
   "outputs": [],
   "source": [
    "for row in range(0,len(file1)):\n",
    "    if '.' in file1.iloc[row,2]:\n",
    "        file1.iloc[row,2] = float(file1.iloc[row,2]) * (10 ** (len(file1.iloc[row,2]) - file1.iloc[row,2].index('.') - 1) )"
   ]
  },
  {
   "cell_type": "code",
   "execution_count": 60,
   "metadata": {},
   "outputs": [],
   "source": [
    "file1.Steps = file1.Steps.astype(float)             # convert to float"
   ]
  },
  {
   "cell_type": "markdown",
   "metadata": {},
   "source": [
    "## Applying the same logic for Calories_activity column"
   ]
  },
  {
   "cell_type": "code",
   "execution_count": 62,
   "metadata": {},
   "outputs": [],
   "source": [
    "for row in range(0,len(file1)):\n",
    "    if '.' in file1.iloc[row,9]:\n",
    "        file1.iloc[row,9] = float(file1.iloc[row,9]) * (10 ** (len(file1.iloc[row,9]) - file1.iloc[row,9].index('.') - 1) )"
   ]
  },
  {
   "cell_type": "code",
   "execution_count": 63,
   "metadata": {},
   "outputs": [],
   "source": [
    "file1.Calories_Activity = file1.Calories_Activity.astype(float)"
   ]
  },
  {
   "cell_type": "markdown",
   "metadata": {},
   "source": [
    "## Exporting as CSV"
   ]
  },
  {
   "cell_type": "code",
   "execution_count": 73,
   "metadata": {},
   "outputs": [],
   "source": [
    "file1.to_csv('fitbit_cleaned.csv')"
   ]
  },
  {
   "cell_type": "code",
   "execution_count": null,
   "metadata": {},
   "outputs": [],
   "source": []
  }
 ],
 "metadata": {
  "kernelspec": {
   "display_name": "Python 3",
   "language": "python",
   "name": "python3"
  },
  "language_info": {
   "codemirror_mode": {
    "name": "ipython",
    "version": 3
   },
   "file_extension": ".py",
   "mimetype": "text/x-python",
   "name": "python",
   "nbconvert_exporter": "python",
   "pygments_lexer": "ipython3",
   "version": "3.6.7"
  }
 },
 "nbformat": 4,
 "nbformat_minor": 2
}
